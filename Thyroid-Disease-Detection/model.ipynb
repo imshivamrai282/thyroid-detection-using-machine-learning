{
 "cells": [
  {
   "cell_type": "code",
   "execution_count": 1,
   "id": "0d013994",
   "metadata": {},
   "outputs": [],
   "source": [
    "import numpy as np\n",
    "import pandas as pd\n",
    "\n",
    "import os\n",
    "import warnings\n",
    "warnings.filterwarnings('ignore')\n",
    "\n",
    "from sklearn.preprocessing import MinMaxScaler\n",
    "\n",
    "from sklearn.model_selection import train_test_split\n",
    "from sklearn.linear_model import LogisticRegression, LinearRegression, ElasticNet, Lasso, Ridge\n",
    "from sklearn.neighbors import KNeighborsClassifier, KNeighborsRegressor\n",
    "from sklearn.tree import DecisionTreeClassifier, DecisionTreeRegressor, export_graphviz\n",
    "from sklearn.ensemble import BaggingClassifier, BaggingRegressor,RandomForestClassifier,RandomForestRegressor\n",
    "from sklearn.ensemble import GradientBoostingClassifier,GradientBoostingRegressor, AdaBoostClassifier, AdaBoostRegressor \n",
    "from sklearn.svm import LinearSVC, LinearSVR, SVC, SVR\n",
    "\n",
    "from xgboost import XGBClassifier\n",
    "from sklearn.metrics import mean_squared_error, mean_absolute_error, r2_score\n",
    "\n",
    "from sklearn.metrics import f1_score, accuracy_score, confusion_matrix, classification_report"
   ]
  },
  {
   "cell_type": "code",
   "execution_count": 2,
   "id": "d39fc9d0",
   "metadata": {},
   "outputs": [
    {
     "data": {
      "text/html": [
       "<div>\n",
       "<style scoped>\n",
       "    .dataframe tbody tr th:only-of-type {\n",
       "        vertical-align: middle;\n",
       "    }\n",
       "\n",
       "    .dataframe tbody tr th {\n",
       "        vertical-align: top;\n",
       "    }\n",
       "\n",
       "    .dataframe thead th {\n",
       "        text-align: right;\n",
       "    }\n",
       "</style>\n",
       "<table border=\"1\" class=\"dataframe\">\n",
       "  <thead>\n",
       "    <tr style=\"text-align: right;\">\n",
       "      <th></th>\n",
       "      <th>Unnamed: 0</th>\n",
       "      <th>age</th>\n",
       "      <th>sex</th>\n",
       "      <th>on thyroxine</th>\n",
       "      <th>on antithyroid medication</th>\n",
       "      <th>sick</th>\n",
       "      <th>pregnant</th>\n",
       "      <th>thyroid surgery</th>\n",
       "      <th>I131 treatment</th>\n",
       "      <th>query hypothyroid</th>\n",
       "      <th>query hyperthyroid</th>\n",
       "      <th>goitre</th>\n",
       "      <th>tumor</th>\n",
       "      <th>hypopituitary</th>\n",
       "      <th>psych</th>\n",
       "      <th>TSH</th>\n",
       "      <th>T3</th>\n",
       "      <th>T4U</th>\n",
       "      <th>FTI</th>\n",
       "      <th>target</th>\n",
       "    </tr>\n",
       "  </thead>\n",
       "  <tbody>\n",
       "    <tr>\n",
       "      <th>0</th>\n",
       "      <td>0</td>\n",
       "      <td>29.0</td>\n",
       "      <td>0.0</td>\n",
       "      <td>0</td>\n",
       "      <td>0</td>\n",
       "      <td>0</td>\n",
       "      <td>0</td>\n",
       "      <td>0</td>\n",
       "      <td>0</td>\n",
       "      <td>0</td>\n",
       "      <td>0</td>\n",
       "      <td>0</td>\n",
       "      <td>0</td>\n",
       "      <td>0</td>\n",
       "      <td>0</td>\n",
       "      <td>1.600000</td>\n",
       "      <td>1.900000</td>\n",
       "      <td>0.976056</td>\n",
       "      <td>113.640746</td>\n",
       "      <td>29</td>\n",
       "    </tr>\n",
       "    <tr>\n",
       "      <th>1</th>\n",
       "      <td>1</td>\n",
       "      <td>41.0</td>\n",
       "      <td>0.0</td>\n",
       "      <td>0</td>\n",
       "      <td>0</td>\n",
       "      <td>0</td>\n",
       "      <td>0</td>\n",
       "      <td>0</td>\n",
       "      <td>0</td>\n",
       "      <td>0</td>\n",
       "      <td>1</td>\n",
       "      <td>0</td>\n",
       "      <td>0</td>\n",
       "      <td>0</td>\n",
       "      <td>0</td>\n",
       "      <td>5.218993</td>\n",
       "      <td>1.970629</td>\n",
       "      <td>0.976056</td>\n",
       "      <td>113.640746</td>\n",
       "      <td>29</td>\n",
       "    </tr>\n",
       "    <tr>\n",
       "      <th>2</th>\n",
       "      <td>2</td>\n",
       "      <td>36.0</td>\n",
       "      <td>0.0</td>\n",
       "      <td>0</td>\n",
       "      <td>0</td>\n",
       "      <td>0</td>\n",
       "      <td>0</td>\n",
       "      <td>0</td>\n",
       "      <td>0</td>\n",
       "      <td>0</td>\n",
       "      <td>0</td>\n",
       "      <td>0</td>\n",
       "      <td>0</td>\n",
       "      <td>0</td>\n",
       "      <td>0</td>\n",
       "      <td>5.218993</td>\n",
       "      <td>1.970629</td>\n",
       "      <td>0.976056</td>\n",
       "      <td>113.640746</td>\n",
       "      <td>29</td>\n",
       "    </tr>\n",
       "    <tr>\n",
       "      <th>3</th>\n",
       "      <td>3</td>\n",
       "      <td>32.0</td>\n",
       "      <td>0.0</td>\n",
       "      <td>0</td>\n",
       "      <td>0</td>\n",
       "      <td>0</td>\n",
       "      <td>0</td>\n",
       "      <td>0</td>\n",
       "      <td>0</td>\n",
       "      <td>0</td>\n",
       "      <td>0</td>\n",
       "      <td>0</td>\n",
       "      <td>0</td>\n",
       "      <td>0</td>\n",
       "      <td>0</td>\n",
       "      <td>5.218993</td>\n",
       "      <td>1.970629</td>\n",
       "      <td>0.976056</td>\n",
       "      <td>113.640746</td>\n",
       "      <td>28</td>\n",
       "    </tr>\n",
       "    <tr>\n",
       "      <th>4</th>\n",
       "      <td>4</td>\n",
       "      <td>60.0</td>\n",
       "      <td>0.0</td>\n",
       "      <td>0</td>\n",
       "      <td>0</td>\n",
       "      <td>0</td>\n",
       "      <td>0</td>\n",
       "      <td>0</td>\n",
       "      <td>0</td>\n",
       "      <td>0</td>\n",
       "      <td>0</td>\n",
       "      <td>0</td>\n",
       "      <td>0</td>\n",
       "      <td>0</td>\n",
       "      <td>0</td>\n",
       "      <td>5.218993</td>\n",
       "      <td>1.970629</td>\n",
       "      <td>0.976056</td>\n",
       "      <td>113.640746</td>\n",
       "      <td>29</td>\n",
       "    </tr>\n",
       "  </tbody>\n",
       "</table>\n",
       "</div>"
      ],
      "text/plain": [
       "   Unnamed: 0   age  sex  on thyroxine  on antithyroid medication  sick  \\\n",
       "0           0  29.0  0.0             0                          0     0   \n",
       "1           1  41.0  0.0             0                          0     0   \n",
       "2           2  36.0  0.0             0                          0     0   \n",
       "3           3  32.0  0.0             0                          0     0   \n",
       "4           4  60.0  0.0             0                          0     0   \n",
       "\n",
       "   pregnant  thyroid surgery  I131 treatment  query hypothyroid  \\\n",
       "0         0                0               0                  0   \n",
       "1         0                0               0                  0   \n",
       "2         0                0               0                  0   \n",
       "3         0                0               0                  0   \n",
       "4         0                0               0                  0   \n",
       "\n",
       "   query hyperthyroid  goitre  tumor  hypopituitary  psych       TSH  \\\n",
       "0                   0       0      0              0      0  1.600000   \n",
       "1                   1       0      0              0      0  5.218993   \n",
       "2                   0       0      0              0      0  5.218993   \n",
       "3                   0       0      0              0      0  5.218993   \n",
       "4                   0       0      0              0      0  5.218993   \n",
       "\n",
       "         T3       T4U         FTI  target  \n",
       "0  1.900000  0.976056  113.640746      29  \n",
       "1  1.970629  0.976056  113.640746      29  \n",
       "2  1.970629  0.976056  113.640746      29  \n",
       "3  1.970629  0.976056  113.640746      28  \n",
       "4  1.970629  0.976056  113.640746      29  "
      ]
     },
     "execution_count": 2,
     "metadata": {},
     "output_type": "execute_result"
    }
   ],
   "source": [
    "data=pd.read_csv('processed_data.csv')\n",
    "data.head()"
   ]
  },
  {
   "cell_type": "code",
   "execution_count": 3,
   "id": "ad7d0314",
   "metadata": {},
   "outputs": [],
   "source": [
    "data.drop('Unnamed: 0',axis=1,inplace=True)"
   ]
  },
  {
   "cell_type": "code",
   "execution_count": 4,
   "id": "a2799b47",
   "metadata": {},
   "outputs": [],
   "source": [
    "y=data['target']\n",
    "X=data.drop(['target'],axis=1)"
   ]
  },
  {
   "cell_type": "code",
   "execution_count": null,
   "id": "4b3a1e7d",
   "metadata": {},
   "outputs": [],
   "source": []
  },
  {
   "cell_type": "code",
   "execution_count": 5,
   "id": "40f5b0a6",
   "metadata": {},
   "outputs": [
    {
     "name": "stdout",
     "output_type": "stream",
     "text": [
      "(8156, 18)\n",
      "(907, 18)\n",
      "(8156,)\n",
      "(907,)\n"
     ]
    }
   ],
   "source": [
    "X_train,X_test,y_train,y_test= train_test_split(X,y,test_size=0.1,random_state=42)\n",
    "print(X_train.shape)\n",
    "print(X_test.shape)\n",
    "print(y_train.shape)\n",
    "print(y_test.shape)"
   ]
  },
  {
   "cell_type": "code",
   "execution_count": 6,
   "id": "db9c588b",
   "metadata": {},
   "outputs": [],
   "source": [
    "def evauation_model(pred, y_val):\n",
    "  score_MSE = round(mean_squared_error(pred, y_val),2)\n",
    "  score_MAE = round(mean_absolute_error(pred, y_val),2)\n",
    "  score_r2score = round(r2_score(pred, y_val),2)\n",
    "  return score_MSE, score_MAE, score_r2score\n"
   ]
  },
  {
   "cell_type": "code",
   "execution_count": 7,
   "id": "fee1326e",
   "metadata": {},
   "outputs": [],
   "source": [
    "#different model training and evalution"
   ]
  },
  {
   "cell_type": "code",
   "execution_count": 8,
   "id": "21b5d60e",
   "metadata": {
    "scrolled": true
   },
   "outputs": [
    {
     "name": "stdout",
     "output_type": "stream",
     "text": [
      "26.93 1.43 0.52\n",
      "training accuracy = 88.92839627268269\n",
      "testing accuracy = 88.31312017640573\n"
     ]
    }
   ],
   "source": [
    "dt = DecisionTreeClassifier(max_depth = 4, criterion = 'entropy')\n",
    "dt.fit(X_train, y_train)\n",
    "predictions= dt.predict(X_test)\n",
    "\n",
    "score_MSE, score_MAE, score_r2score = evauation_model(predictions, y_test)\n",
    "print(score_MSE, score_MAE, score_r2score)\n",
    "\n",
    "print('training accuracy = '+str(dt.score(X_train, y_train)*100))\n",
    "print('testing accuracy = '+str(dt.score(X_test, y_test)*100))"
   ]
  },
  {
   "cell_type": "code",
   "execution_count": 9,
   "id": "378ce601",
   "metadata": {},
   "outputs": [
    {
     "name": "stdout",
     "output_type": "stream",
     "text": [
      "50.93 2.86 -0.68\n",
      "training accuracy = 77.07209416380579\n",
      "testing accuracy = 77.61852260198457\n"
     ]
    }
   ],
   "source": [
    "lr = LogisticRegression()\n",
    "lr.fit(X_train, y_train)\n",
    "predictions= lr.predict(X_test)\n",
    "\n",
    "\n",
    "score_MSE, score_MAE, score_r2score = evauation_model(predictions, y_test)\n",
    "print(score_MSE, score_MAE, score_r2score)\n",
    "\n",
    "print('training accuracy = '+str(lr.score(X_train, y_train)*100))\n",
    "print('testing accuracy = '+str(lr.score(X_test, y_test)*100))"
   ]
  },
  {
   "cell_type": "code",
   "execution_count": 10,
   "id": "0e28de36",
   "metadata": {},
   "outputs": [
    {
     "name": "stdout",
     "output_type": "stream",
     "text": [
      "66.77 3.55 -6.76\n",
      "training accuracy = 74.77930358018637\n",
      "testing accuracy = 75.85446527012127\n"
     ]
    }
   ],
   "source": [
    "svm = SVC()\n",
    "svm.fit(X_train, y_train)\n",
    "predictions = svm.predict(X_test)\n",
    "\n",
    "score_MSE, score_MAE, score_r2score = evauation_model(predictions, y_test)\n",
    "print(score_MSE, score_MAE, score_r2score)\n",
    "\n",
    "print('training accuracy = '+str(svm.score(X_train, y_train)*100))\n",
    "print('testing accuracy = '+str(svm.score(X_test, y_test)*100))\n"
   ]
  },
  {
   "cell_type": "code",
   "execution_count": 11,
   "id": "a61a26fb",
   "metadata": {},
   "outputs": [
    {
     "name": "stdout",
     "output_type": "stream",
     "text": [
      "16.84 0.92 0.72\n",
      "training accuracy = 99.61991172143208\n",
      "testing accuracy = 92.50275633958104\n"
     ]
    }
   ],
   "source": [
    "xgb=XGBClassifier()\n",
    "xgb.fit(X_train,y_train)\n",
    "predictions= xgb.predict(X_test)\n",
    "\n",
    "score_MSE, score_MAE, score_r2score = evauation_model(predictions, y_test)\n",
    "print(score_MSE, score_MAE, score_r2score)\n",
    "\n",
    "print('training accuracy = '+str(xgb.score(X_train, y_train)*100))\n",
    "print('testing accuracy = '+str(xgb.score(X_test, y_test)*100))"
   ]
  },
  {
   "cell_type": "code",
   "execution_count": 12,
   "id": "3f6b5bb6",
   "metadata": {},
   "outputs": [],
   "source": [
    "#As \n",
    "best_xgboost_model = XGBClassifier()\n",
    "best_xgboost_model.fit(X_train,y_train)\n",
    "best_xgboost_model.save_model(\"best_model.json\")"
   ]
  },
  {
   "cell_type": "code",
   "execution_count": null,
   "id": "e0da696c",
   "metadata": {},
   "outputs": [],
   "source": []
  }
 ],
 "metadata": {
  "kernelspec": {
   "display_name": "Python 3 (ipykernel)",
   "language": "python",
   "name": "python3"
  },
  "language_info": {
   "codemirror_mode": {
    "name": "ipython",
    "version": 3
   },
   "file_extension": ".py",
   "mimetype": "text/x-python",
   "name": "python",
   "nbconvert_exporter": "python",
   "pygments_lexer": "ipython3",
   "version": "3.8.16"
  }
 },
 "nbformat": 4,
 "nbformat_minor": 5
}
